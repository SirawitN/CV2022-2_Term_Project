{
 "cells": [
  {
   "attachments": {},
   "cell_type": "markdown",
   "metadata": {},
   "source": [
    "# Results Structure"
   ]
  },
  {
   "attachments": {},
   "cell_type": "markdown",
   "metadata": {},
   "source": [
    "Please ask Nine for `ExtractedLandmarks.zip`"
   ]
  },
  {
   "attachments": {
    "image.png": {
     "image/png": "[encoded data removed]"
    }
   },
   "cell_type": "markdown",
   "metadata": {},
   "source": [
    "![image.png](attachment:image.png)"
   ]
  },
  {
   "attachments": {},
   "cell_type": "markdown",
   "metadata": {},
   "source": [
    "# Code"
   ]
  },
  {
   "cell_type": "code",
   "execution_count": 3,
   "metadata": {},
   "outputs": [],
   "source": [
    "from os import listdir\n",
    "from os.path import isfile, join"
   ]
  },
  {
   "cell_type": "code",
   "execution_count": 4,
   "metadata": {},
   "outputs": [],
   "source": [
    "path = './results/ExtractedLandmarks/'"
   ]
  },
  {
   "cell_type": "code",
   "execution_count": 7,
   "metadata": {},
   "outputs": [],
   "source": [
    "hand_path = path+'hands/'\n",
    "hand_files = [f for f in listdir(hand_path) if isfile(join(hand_path, f))]\n",
    "hand_files_denormalized = [f for f in hand_files if \"denormalized\" in f]\n",
    "hand_files_normalized = [f for f in hand_files if \"denormalized\" not in f]"
   ]
  },
  {
   "cell_type": "code",
   "execution_count": 15,
   "metadata": {},
   "outputs": [],
   "source": [
    "pose_path = path+'pose/'\n",
    "pose_files = [f for f in listdir(pose_path) if isfile(join(pose_path, f))]\n",
    "pose_files_denormalized = [f for f in pose_files if \"denormalized\" in f]\n",
    "pose_files_normalized = [f for f in pose_files if \"denormalized\" not in f]"
   ]
  },
  {
   "cell_type": "code",
   "execution_count": 23,
   "metadata": {},
   "outputs": [],
   "source": [
    "mapping_file = './resources/Class_mapping.txt'\n",
    "ctol = {}\n",
    "ltoc = {}\n",
    "with open(mapping_file) as f:\n",
    "    for line in f:\n",
    "        (key, val) = line.split()\n",
    "        ctol[int(key)] = val\n",
    "        ltoc[val] = int(key)"
   ]
  },
  {
   "cell_type": "code",
   "execution_count": 18,
   "metadata": {},
   "outputs": [],
   "source": [
    "from torch.utils.data import Dataset, DataLoader\n",
    "import pandas as pd\n",
    "import numpy as np"
   ]
  },
  {
   "cell_type": "code",
   "execution_count": 20,
   "metadata": {},
   "outputs": [],
   "source": [
    "hand_index = np.arange(0, 21)\n",
    "body_index = np.arange(0, 25)"
   ]
  },
  {
   "cell_type": "code",
   "execution_count": null,
   "metadata": {},
   "outputs": [],
   "source": [
    "class LandmarksDataset(Dataset):\n",
    "    \"\"\"Hand Landmarks dataset.\"\"\"\n",
    "\n",
    "    def __init__(self, hand_path, pose_path, file_names, hand_use_index, pose_use_index, sample_func, transform=None, **kwargs):\n",
    "        \"\"\"\n",
    "        Args:\n",
    "            csv_file (string): Path to the csv file with annotations.\n",
    "            root_dir (string): Directory with all the images.\n",
    "            transform (callable, optional): Optional transform to be applied\n",
    "                on a sample.\n",
    "        \"\"\"\n",
    "        super(HandLandmarksDataset, self).__init__()\n",
    "        self.hand_path = hand_path\n",
    "        self.pose_path = pose_path\n",
    "        self.file_names = file_names\n",
    "        self.hand_use_index = hand_use_index\n",
    "        self.pose_use_index = pose_use_index\n",
    "        self.sample_func = sample_func\n",
    "        self.kwargs = kwargs\n",
    "        self.transform = transform\n",
    "\n",
    "    def __len__(self):\n",
    "        return len(self.files)\n",
    "\n",
    "    def __getitem__(self, idx):\n",
    "        file_name = self.files[idx]\n",
    "        hand_file = pd.read_csv(hand_path+file_name, header=None)\n",
    "        pose_file = pd.read_csv(pose_path+file_name, header=None)\n",
    "        hand = hand_file.iloc[:, self.hand_use_index].to_numpy()\n",
    "        pose = pose_file.iloc[:, self.pose_use_index].to_numpy()\n",
    "        data = np.concatenate((hand, pose), axis=1)\n",
    "        \n",
    "        # get label from file name\n",
    "        y = file_name.split('_')[0]\n",
    "        \n",
    "        sample_x = self.sample_func(data, **self.kwargs)\n",
    "\n",
    "        if self.transform:\n",
    "            sample = self.transform(sample)\n",
    "\n",
    "        return sample_x, y"
   ]
  },
  {
   "cell_type": "code",
   "execution_count": 48,
   "metadata": {},
   "outputs": [],
   "source": [
    "def sample_data(data, len_sample):\n",
    "    sample_idx = np.linspace(0, data.shape[0]-1, len_sample, dtype=int)\n",
    "    return data[sample_idx]"
   ]
  }
 ],
 "metadata": {
  "kernelspec": {
   "display_name": "chulacv2022",
   "language": "python",
   "name": "python3"
  },
  "language_info": {
   "codemirror_mode": {
    "name": "ipython",
    "version": 3
   },
   "file_extension": ".py",
   "mimetype": "text/x-python",
   "name": "python",
   "nbconvert_exporter": "python",
   "pygments_lexer": "ipython3",
   "version": "3.11.0"
  },
  "orig_nbformat": 4
 },
 "nbformat": 4,
 "nbformat_minor": 2
}
