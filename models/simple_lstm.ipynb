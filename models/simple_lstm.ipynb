{
 "cells": [
  {
   "cell_type": "code",
   "execution_count": 1,
   "metadata": {},
   "outputs": [],
   "source": [
    "import torch\n",
    "import pandas as pd\n",
    "import numpy as np\n",
    "\n",
    "from sklearn.metrics import accuracy_score, classification_report\n",
    "\n",
    "import matplotlib.pyplot as plt\n",
    "\n",
    "import os, time\n",
    "import csv"
   ]
  },
  {
   "attachments": {},
   "cell_type": "markdown",
   "metadata": {},
   "source": [
    "### 1.Load dataset"
   ]
  },
  {
   "cell_type": "code",
   "execution_count": 2,
   "metadata": {},
   "outputs": [],
   "source": [
    "data_root = '../results'\n",
    "\n",
    "classes = []\n",
    "with open('../Class_mapping.csv') as f:\n",
    "    csvreader = csv.reader(f)\n",
    "    for row in csvreader:\n",
    "        classes.append(row[0])"
   ]
  },
  {
   "cell_type": "code",
   "execution_count": 3,
   "metadata": {},
   "outputs": [
    {
     "data": {
      "text/plain": [
       "{'ฉัน': 0,\n",
       " 'เธอ': 1,\n",
       " 'เขา': 2,\n",
       " 'พวกเรา': 3,\n",
       " 'สวัสดี': 4,\n",
       " 'ชื่อ': 5,\n",
       " 'ผู้ชาย': 6,\n",
       " 'ผู้หญิง': 7,\n",
       " 'ความรัก': 8,\n",
       " 'ชอบ': 9,\n",
       " 'ไม่ชอบ': 10,\n",
       " 'ดีใจ': 11,\n",
       " 'เสียใจ': 12,\n",
       " 'โกรธ': 13,\n",
       " 'ร้องไห้': 14,\n",
       " 'ยาก': 15,\n",
       " 'ง่าย': 16,\n",
       " 'คิดถึง': 17,\n",
       " 'รองเท้า': 18,\n",
       " 'กางเกงยีนส์': 19,\n",
       " 'หมวก': 20,\n",
       " 'แว่นตา': 21,\n",
       " 'นาฬิกาข้อมือ': 22,\n",
       " 'ผ้าเช็ดหน้า': 23}"
      ]
     },
     "execution_count": 3,
     "metadata": {},
     "output_type": "execute_result"
    }
   ],
   "source": [
    "class_2_num = {classes[idx]:idx for idx in range(len(classes))}\n",
    "class_2_num"
   ]
  },
  {
   "attachments": {},
   "cell_type": "markdown",
   "metadata": {},
   "source": [
    "### DataLoader"
   ]
  },
  {
   "cell_type": "code",
   "execution_count": 4,
   "metadata": {},
   "outputs": [],
   "source": [
    "from torch.utils.data import Dataset, DataLoader"
   ]
  },
  {
   "cell_type": "code",
   "execution_count": 5,
   "metadata": {},
   "outputs": [],
   "source": [
    "class SignLanguageDataset(Dataset):\n",
    "    def __init__(self, data_root):\n",
    "        self.data = []\n",
    "        self.labels = []\n",
    "        files = os.listdir(data_root)\n",
    "        files = [f for f in files if os.path.isfile(data_root+'/'+f) and not 'denormalized' in f]\n",
    "        for f in files:\n",
    "            seq = pd.read_csv(data_root + '/' + f)\n",
    "            seq.drop(['index'], axis=1, inplace=True)\n",
    "            cls = f.split('_')[0]\n",
    "            self.data.append(seq)\n",
    "            self.labels.append(cls)\n",
    "\n",
    "    def __len__(self):\n",
    "        return len(self.labels)\n",
    "\n",
    "    def __getitem__(self, idx):\n",
    "        seq = self.data[idx]\n",
    "        cls = self.labels[idx]\n",
    "        label = class_2_num[cls]\n",
    "        return seq, label"
   ]
  },
  {
   "cell_type": "code",
   "execution_count": 6,
   "metadata": {},
   "outputs": [],
   "source": [
    "train_dataset = SignLanguageDataset(data_root + '/train')\n",
    "val_dataset = SignLanguageDataset(data_root + '/val')"
   ]
  },
  {
   "cell_type": "code",
   "execution_count": 7,
   "metadata": {},
   "outputs": [
    {
     "data": {
      "text/plain": [
       "(203, 96)"
      ]
     },
     "execution_count": 7,
     "metadata": {},
     "output_type": "execute_result"
    }
   ],
   "source": [
    "len(train_dataset), len(val_dataset)"
   ]
  },
  {
   "cell_type": "code",
   "execution_count": 8,
   "metadata": {},
   "outputs": [
    {
     "name": "stdout",
     "output_type": "stream",
     "text": [
      "(119, 150) 19\n"
     ]
    }
   ],
   "source": [
    "data, label = train_dataset[5]\n",
    "\n",
    "print(data.shape, label)"
   ]
  },
  {
   "cell_type": "code",
   "execution_count": 9,
   "metadata": {},
   "outputs": [],
   "source": [
    "from torch.nn.utils.rnn import pad_sequence, pack_padded_sequence, pad_packed_sequence"
   ]
  },
  {
   "cell_type": "code",
   "execution_count": 10,
   "metadata": {},
   "outputs": [],
   "source": [
    "sample_frame_size = 5\n",
    "\n",
    "def pad_collate(batch):\n",
    "    (xx, yy) = zip(*batch)\n",
    "    xx = [torch.from_numpy(x[::5].to_numpy()).float() for x in xx]\n",
    "    x_lens = torch.tensor([len(x) for x in xx])\n",
    "\n",
    "    xx_pad = pad_sequence(xx, batch_first=True, padding_value=0)\n",
    "    return xx_pad, x_lens, torch.tensor(yy, dtype=torch.long)"
   ]
  },
  {
   "cell_type": "code",
   "execution_count": 11,
   "metadata": {},
   "outputs": [],
   "source": [
    "batch_size = 8\n",
    "dataloader = DataLoader(train_dataset, batch_size, collate_fn=pad_collate, shuffle=True)\n",
    "valloader = DataLoader(val_dataset, batch_size, collate_fn=pad_collate)"
   ]
  },
  {
   "cell_type": "code",
   "execution_count": 12,
   "metadata": {},
   "outputs": [
    {
     "data": {
      "text/plain": [
       "(torch.Size([8, 32, 150]), torch.Size([8]), torch.Size([8]))"
      ]
     },
     "execution_count": 12,
     "metadata": {},
     "output_type": "execute_result"
    }
   ],
   "source": [
    "out = next(iter(dataloader))\n",
    "out[0].shape, out[1].shape, out[2].shape"
   ]
  },
  {
   "attachments": {},
   "cell_type": "markdown",
   "metadata": {},
   "source": [
    "### Model"
   ]
  },
  {
   "cell_type": "code",
   "execution_count": 13,
   "metadata": {},
   "outputs": [],
   "source": [
    "import torch.nn as nn\n",
    "import torch.optim as optim\n",
    "import torch.nn.functional as F\n",
    "import torchinfo\n",
    "from tqdm import tqdm"
   ]
  },
  {
   "cell_type": "code",
   "execution_count": 14,
   "metadata": {},
   "outputs": [],
   "source": [
    "class LSTMClassifier(nn.Module):\n",
    "  def __init__(self, input_dim, hidden_dim, output_dim, n_layers=2):\n",
    "    super(LSTMClassifier, self).__init__()\n",
    "    self.lstm = nn.LSTM(input_dim, hidden_dim, num_layers=n_layers, batch_first=True)\n",
    "    self.fc1 = nn.Linear(hidden_dim, 64)\n",
    "    self.fc2 = nn.Linear(64, output_dim)\n",
    "\n",
    "  def forward(self, x, x_len):\n",
    "    packed_x = pack_padded_sequence(x, x_len, batch_first=True, enforce_sorted=False)\n",
    "    packed_output, (h, _) = self.lstm(packed_x)\n",
    "    output = F.relu(self.fc1(h[-1]))\n",
    "    logit = self.fc2(output)\n",
    "    return logit"
   ]
  },
  {
   "cell_type": "code",
   "execution_count": 15,
   "metadata": {},
   "outputs": [
    {
     "data": {
      "text/plain": [
       "LSTMClassifier(\n",
       "  (lstm): LSTM(150, 128, batch_first=True)\n",
       "  (fc1): Linear(in_features=128, out_features=64, bias=True)\n",
       "  (fc2): Linear(in_features=64, out_features=24, bias=True)\n",
       ")"
      ]
     },
     "execution_count": 15,
     "metadata": {},
     "output_type": "execute_result"
    }
   ],
   "source": [
    "device = torch.device('cuda' if torch.cuda.is_available() else 'cpu')\n",
    "\n",
    "model = LSTMClassifier(150, 128, len(classes), n_layers=1)\n",
    "model.to(device)"
   ]
  },
  {
   "cell_type": "code",
   "execution_count": 16,
   "metadata": {},
   "outputs": [],
   "source": [
    "model_path = 'simple_lstm_classifier.pth'\n",
    "optimizer = optim.Adam(model.parameters(), lr=0.005)\n",
    "criterion = nn.CrossEntropyLoss()"
   ]
  },
  {
   "attachments": {},
   "cell_type": "markdown",
   "metadata": {},
   "source": [
    "### Training loop"
   ]
  },
  {
   "cell_type": "code",
   "execution_count": 17,
   "metadata": {},
   "outputs": [
    {
     "name": "stdout",
     "output_type": "stream",
     "text": [
      "EPOCH : 1\n",
      "TRAINING LOOP\n"
     ]
    },
    {
     "name": "stderr",
     "output_type": "stream",
     "text": [
      "100%|██████████| 26/26 [00:00<00:00, 56.40it/s]\n",
      "100%|██████████| 12/12 [00:00<00:00, 499.98it/s]\n"
     ]
    },
    {
     "name": "stdout",
     "output_type": "stream",
     "text": [
      "training loss = 3.155,     valudating loss = 2.891,     valudating acc = 0.083\n",
      "\n",
      "\n",
      "EPOCH : 2\n",
      "TRAINING LOOP\n"
     ]
    },
    {
     "name": "stderr",
     "output_type": "stream",
     "text": [
      "100%|██████████| 26/26 [00:00<00:00, 213.12it/s]\n",
      "100%|██████████| 12/12 [00:00<00:00, 400.00it/s]\n"
     ]
    },
    {
     "name": "stdout",
     "output_type": "stream",
     "text": [
      "training loss = 2.880,     valudating loss = 2.656,     valudating acc = 0.083\n",
      "\n",
      "\n",
      "EPOCH : 3\n",
      "TRAINING LOOP\n"
     ]
    },
    {
     "name": "stderr",
     "output_type": "stream",
     "text": [
      "100%|██████████| 26/26 [00:00<00:00, 213.11it/s]\n",
      "100%|██████████| 12/12 [00:00<00:00, 461.51it/s]\n"
     ]
    },
    {
     "name": "stdout",
     "output_type": "stream",
     "text": [
      "training loss = 2.637,     valudating loss = 2.492,     valudating acc = 0.146\n",
      "\n",
      "\n",
      "EPOCH : 4\n",
      "TRAINING LOOP\n"
     ]
    },
    {
     "name": "stderr",
     "output_type": "stream",
     "text": [
      "100%|██████████| 26/26 [00:00<00:00, 214.87it/s]\n",
      "100%|██████████| 12/12 [00:00<00:00, 444.47it/s]\n"
     ]
    },
    {
     "name": "stdout",
     "output_type": "stream",
     "text": [
      "training loss = 2.458,     valudating loss = 2.322,     valudating acc = 0.167\n",
      "\n",
      "\n",
      "EPOCH : 5\n",
      "TRAINING LOOP\n"
     ]
    },
    {
     "name": "stderr",
     "output_type": "stream",
     "text": [
      "100%|██████████| 26/26 [00:00<00:00, 178.08it/s]\n",
      "100%|██████████| 12/12 [00:00<00:00, 375.00it/s]\n"
     ]
    },
    {
     "name": "stdout",
     "output_type": "stream",
     "text": [
      "training loss = 2.295,     valudating loss = 2.180,     valudating acc = 0.208\n",
      "\n",
      "\n",
      "EPOCH : 6\n",
      "TRAINING LOOP\n"
     ]
    },
    {
     "name": "stderr",
     "output_type": "stream",
     "text": [
      "100%|██████████| 26/26 [00:00<00:00, 209.68it/s]\n",
      "100%|██████████| 12/12 [00:00<00:00, 461.51it/s]\n"
     ]
    },
    {
     "name": "stdout",
     "output_type": "stream",
     "text": [
      "training loss = 2.153,     valudating loss = 2.032,     valudating acc = 0.198\n",
      "\n",
      "\n",
      "EPOCH : 7\n",
      "TRAINING LOOP\n"
     ]
    },
    {
     "name": "stderr",
     "output_type": "stream",
     "text": [
      "100%|██████████| 26/26 [00:00<00:00, 174.50it/s]\n",
      "100%|██████████| 12/12 [00:00<00:00, 461.49it/s]\n"
     ]
    },
    {
     "name": "stdout",
     "output_type": "stream",
     "text": [
      "training loss = 2.066,     valudating loss = 2.026,     valudating acc = 0.208\n",
      "\n",
      "\n",
      "EPOCH : 8\n",
      "TRAINING LOOP\n"
     ]
    },
    {
     "name": "stderr",
     "output_type": "stream",
     "text": [
      "100%|██████████| 26/26 [00:00<00:00, 212.08it/s]\n",
      "100%|██████████| 12/12 [00:00<00:00, 461.53it/s]\n"
     ]
    },
    {
     "name": "stdout",
     "output_type": "stream",
     "text": [
      "training loss = 2.113,     valudating loss = 1.956,     valudating acc = 0.219\n",
      "\n",
      "\n",
      "EPOCH : 9\n",
      "TRAINING LOOP\n"
     ]
    },
    {
     "name": "stderr",
     "output_type": "stream",
     "text": [
      "100%|██████████| 26/26 [00:00<00:00, 206.35it/s]\n",
      "100%|██████████| 12/12 [00:00<00:00, 461.56it/s]\n"
     ]
    },
    {
     "name": "stdout",
     "output_type": "stream",
     "text": [
      "training loss = 1.970,     valudating loss = 2.017,     valudating acc = 0.198\n",
      "\n",
      "\n",
      "EPOCH : 10\n",
      "TRAINING LOOP\n"
     ]
    },
    {
     "name": "stderr",
     "output_type": "stream",
     "text": [
      "100%|██████████| 26/26 [00:00<00:00, 218.49it/s]\n",
      "100%|██████████| 12/12 [00:00<00:00, 500.01it/s]\n"
     ]
    },
    {
     "name": "stdout",
     "output_type": "stream",
     "text": [
      "training loss = 1.878,     valudating loss = 1.976,     valudating acc = 0.240\n",
      "\n",
      "\n",
      "EPOCH : 11\n",
      "TRAINING LOOP\n"
     ]
    },
    {
     "name": "stderr",
     "output_type": "stream",
     "text": [
      "100%|██████████| 26/26 [00:00<00:00, 214.88it/s]\n",
      "100%|██████████| 12/12 [00:00<00:00, 413.81it/s]\n"
     ]
    },
    {
     "name": "stdout",
     "output_type": "stream",
     "text": [
      "training loss = 1.791,     valudating loss = 1.945,     valudating acc = 0.271\n",
      "\n",
      "\n",
      "EPOCH : 12\n",
      "TRAINING LOOP\n"
     ]
    },
    {
     "name": "stderr",
     "output_type": "stream",
     "text": [
      "100%|██████████| 26/26 [00:00<00:00, 218.49it/s]\n",
      "100%|██████████| 12/12 [00:00<00:00, 386.94it/s]\n"
     ]
    },
    {
     "name": "stdout",
     "output_type": "stream",
     "text": [
      "training loss = 1.814,     valudating loss = 1.985,     valudating acc = 0.302\n",
      "\n",
      "\n",
      "EPOCH : 13\n",
      "TRAINING LOOP\n"
     ]
    },
    {
     "name": "stderr",
     "output_type": "stream",
     "text": [
      "100%|██████████| 26/26 [00:00<00:00, 218.49it/s]\n",
      "100%|██████████| 12/12 [00:00<00:00, 250.00it/s]\n"
     ]
    },
    {
     "name": "stdout",
     "output_type": "stream",
     "text": [
      "training loss = 1.743,     valudating loss = 2.018,     valudating acc = 0.219\n",
      "\n",
      "\n",
      "EPOCH : 14\n",
      "TRAINING LOOP\n"
     ]
    },
    {
     "name": "stderr",
     "output_type": "stream",
     "text": [
      "100%|██████████| 26/26 [00:00<00:00, 208.00it/s]\n",
      "100%|██████████| 12/12 [00:00<00:00, 444.41it/s]\n"
     ]
    },
    {
     "name": "stdout",
     "output_type": "stream",
     "text": [
      "training loss = 1.803,     valudating loss = 1.933,     valudating acc = 0.240\n",
      "\n",
      "\n",
      "EPOCH : 15\n",
      "TRAINING LOOP\n"
     ]
    },
    {
     "name": "stderr",
     "output_type": "stream",
     "text": [
      "100%|██████████| 26/26 [00:00<00:00, 209.67it/s]\n",
      "100%|██████████| 12/12 [00:00<00:00, 324.35it/s]\n"
     ]
    },
    {
     "name": "stdout",
     "output_type": "stream",
     "text": [
      "training loss = 1.694,     valudating loss = 1.974,     valudating acc = 0.271\n",
      "\n",
      "\n",
      "EPOCH : 16\n",
      "TRAINING LOOP\n"
     ]
    },
    {
     "name": "stderr",
     "output_type": "stream",
     "text": [
      "100%|██████████| 26/26 [00:00<00:00, 210.08it/s]\n",
      "100%|██████████| 12/12 [00:00<00:00, 420.95it/s]\n"
     ]
    },
    {
     "name": "stdout",
     "output_type": "stream",
     "text": [
      "training loss = 1.626,     valudating loss = 2.036,     valudating acc = 0.281\n",
      "\n",
      "\n",
      "EPOCH : 17\n",
      "TRAINING LOOP\n"
     ]
    },
    {
     "name": "stderr",
     "output_type": "stream",
     "text": [
      "100%|██████████| 26/26 [00:00<00:00, 213.12it/s]\n",
      "100%|██████████| 12/12 [00:00<00:00, 444.44it/s]\n"
     ]
    },
    {
     "name": "stdout",
     "output_type": "stream",
     "text": [
      "training loss = 1.722,     valudating loss = 1.954,     valudating acc = 0.312\n",
      "\n",
      "\n",
      "EPOCH : 18\n",
      "TRAINING LOOP\n"
     ]
    },
    {
     "name": "stderr",
     "output_type": "stream",
     "text": [
      "100%|██████████| 26/26 [00:00<00:00, 208.00it/s]\n",
      "100%|██████████| 12/12 [00:00<00:00, 480.03it/s]\n"
     ]
    },
    {
     "name": "stdout",
     "output_type": "stream",
     "text": [
      "training loss = 1.682,     valudating loss = 2.181,     valudating acc = 0.271\n",
      "\n",
      "\n",
      "EPOCH : 19\n",
      "TRAINING LOOP\n"
     ]
    },
    {
     "name": "stderr",
     "output_type": "stream",
     "text": [
      "100%|██████████| 26/26 [00:00<00:00, 209.68it/s]\n",
      "100%|██████████| 12/12 [00:00<00:00, 413.80it/s]\n"
     ]
    },
    {
     "name": "stdout",
     "output_type": "stream",
     "text": [
      "training loss = 1.671,     valudating loss = 1.916,     valudating acc = 0.292\n",
      "\n",
      "\n",
      "EPOCH : 20\n",
      "TRAINING LOOP\n"
     ]
    },
    {
     "name": "stderr",
     "output_type": "stream",
     "text": [
      "100%|██████████| 26/26 [00:00<00:00, 218.49it/s]\n",
      "100%|██████████| 12/12 [00:00<00:00, 244.89it/s]\n"
     ]
    },
    {
     "name": "stdout",
     "output_type": "stream",
     "text": [
      "training loss = 1.504,     valudating loss = 1.967,     valudating acc = 0.292\n",
      "\n",
      "\n",
      "EPOCH : 21\n",
      "TRAINING LOOP\n"
     ]
    },
    {
     "name": "stderr",
     "output_type": "stream",
     "text": [
      "100%|██████████| 26/26 [00:00<00:00, 211.39it/s]\n",
      "100%|██████████| 12/12 [00:00<00:00, 499.95it/s]\n"
     ]
    },
    {
     "name": "stdout",
     "output_type": "stream",
     "text": [
      "training loss = 1.556,     valudating loss = 2.010,     valudating acc = 0.385\n",
      "\n",
      "\n",
      "EPOCH : 22\n",
      "TRAINING LOOP\n"
     ]
    },
    {
     "name": "stderr",
     "output_type": "stream",
     "text": [
      "100%|██████████| 26/26 [00:00<00:00, 202.30it/s]\n",
      "100%|██████████| 12/12 [00:00<00:00, 500.06it/s]\n"
     ]
    },
    {
     "name": "stdout",
     "output_type": "stream",
     "text": [
      "training loss = 1.425,     valudating loss = 2.025,     valudating acc = 0.281\n",
      "\n",
      "\n",
      "EPOCH : 23\n",
      "TRAINING LOOP\n"
     ]
    },
    {
     "name": "stderr",
     "output_type": "stream",
     "text": [
      "100%|██████████| 26/26 [00:00<00:00, 213.97it/s]\n",
      "100%|██████████| 12/12 [00:00<00:00, 413.75it/s]\n"
     ]
    },
    {
     "name": "stdout",
     "output_type": "stream",
     "text": [
      "training loss = 1.513,     valudating loss = 2.214,     valudating acc = 0.344\n",
      "\n",
      "\n",
      "EPOCH : 24\n",
      "TRAINING LOOP\n"
     ]
    },
    {
     "name": "stderr",
     "output_type": "stream",
     "text": [
      "100%|██████████| 26/26 [00:00<00:00, 211.39it/s]\n",
      "100%|██████████| 12/12 [00:00<00:00, 428.54it/s]"
     ]
    },
    {
     "name": "stdout",
     "output_type": "stream",
     "text": [
      "training loss = 1.484,     valudating loss = 1.884,     valudating acc = 0.312\n",
      "\n",
      "\n"
     ]
    },
    {
     "name": "stderr",
     "output_type": "stream",
     "text": [
      "\n"
     ]
    }
   ],
   "source": [
    "num_epochs = 24\n",
    "idx = 0\n",
    "best_val_acc = 0\n",
    "\n",
    "training_losses = []\n",
    "epoch_val_losses = []\n",
    "epoch_train_losses = []\n",
    "val_accs = []\n",
    "\n",
    "for epoch in range(1, num_epochs+1): \n",
    "  running_loss = 0.0\n",
    "  running_val_loss = 0.0\n",
    "  print(\"EPOCH :\", epoch)\n",
    "  print(\"TRAINING LOOP\")\n",
    "  model.train() \n",
    "  for x_train, x_lens, labels in tqdm(dataloader): \n",
    "    optimizer.zero_grad() \n",
    "\n",
    "    x_train, labels = x_train.to(device), labels.to(device)\n",
    "    y_pred = model(x_train, x_lens)\n",
    "\n",
    "    loss = criterion(y_pred, labels)\n",
    "    running_loss += loss.item()\n",
    "    training_losses.append(loss.item())\n",
    "    loss.backward()\n",
    "    optimizer.step()\n",
    "    idx += 1\n",
    "  avg_running_loss = running_loss / len(dataloader)\n",
    "\n",
    "  model.eval()\n",
    "  with torch.no_grad():\n",
    "    val_pred = []\n",
    "    val_true = []\n",
    "    for x_val, x_lens, labels in tqdm(valloader): \n",
    "      x_val, labels = x_val.to(device), labels.to(device)\n",
    "      pred = model(x_val, x_lens)\n",
    "      loss = criterion(pred, labels)\n",
    "      \n",
    "      running_val_loss += loss.item()\n",
    "      val_pred.append(pred.cpu().detach())\n",
    "      val_true.append(labels.cpu().detach())\n",
    "    \n",
    "  avg_val_loss = running_val_loss / len(valloader)\n",
    "  val_pred = torch.concatenate(val_pred, axis = 0).numpy()\n",
    "  val_true = torch.concatenate(val_true, axis = 0).numpy()\n",
    "\n",
    "  val_pred = np.argmax(val_pred, axis = 1)\n",
    "  val_acc = accuracy_score(val_true, val_pred)\n",
    "\n",
    "  # append to array for plotting\n",
    "  epoch_train_losses.append(avg_running_loss)\n",
    "  epoch_val_losses.append(avg_val_loss)\n",
    "  val_accs.append(val_acc)\n",
    "\n",
    "  if(best_val_acc < val_acc):\n",
    "    best_val_acc = val_acc\n",
    "    torch.save(model.state_dict(), model_path)\n",
    "\n",
    "  print(f'training loss = {avg_running_loss:.3f}, \\\n",
    "    valudating loss = {avg_val_loss:.3f}, \\\n",
    "    valudating acc = {val_acc:.3f}\\n\\n')  "
   ]
  },
  {
   "cell_type": "code",
   "execution_count": 18,
   "metadata": {},
   "outputs": [],
   "source": [
    "## TODO 3.4: visualize peformance on train , validation set\n",
    "def visualize_loss_acc(training_losses, epoch_train_losses, epoch_val_losses, val_accs):\n",
    "  fig, ax = plt.subplots(1, 3, figsize=(15, 5))\n",
    "  ax[0].plot(training_losses, label='training loss')\n",
    "  ax[0].set_title('Training Loss')\n",
    "  ax[1].plot(epoch_train_losses, label='train loss')\n",
    "  ax[1].plot(epoch_val_losses, label='val loss')\n",
    "  ax[1].set_title('Epoch Loss')\n",
    "  ax[1].legend()\n",
    "  ax[2].plot(val_accs, label='val acc')\n",
    "  ax[2].set_title('Validation Accuracy')\n",
    "  plt.show()"
   ]
  },
  {
   "cell_type": "code",
   "execution_count": 19,
   "metadata": {},
   "outputs": [
    {
     "data": {
      "image/png": "[encoded data removed]",
      "text/plain": [
       "<Figure size 1500x500 with 3 Axes>"
      ]
     },
     "metadata": {},
     "output_type": "display_data"
    }
   ],
   "source": [
    "visualize_loss_acc(training_losses, epoch_train_losses, epoch_val_losses, val_accs)"
   ]
  }
 ],
 "metadata": {
  "kernelspec": {
   "display_name": "torch",
   "language": "python",
   "name": "python3"
  },
  "language_info": {
   "codemirror_mode": {
    "name": "ipython",
    "version": 3
   },
   "file_extension": ".py",
   "mimetype": "text/x-python",
   "name": "python",
   "nbconvert_exporter": "python",
   "pygments_lexer": "ipython3",
   "version": "3.10.8"
  },
  "orig_nbformat": 4
 },
 "nbformat": 4,
 "nbformat_minor": 2
}
