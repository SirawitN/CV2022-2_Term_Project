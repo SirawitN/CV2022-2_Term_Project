{
 "cells": [
  {
   "cell_type": "code",
   "execution_count": 1,
   "metadata": {},
   "outputs": [],
   "source": [
    "import torch\n",
    "import pandas as pd\n",
    "import numpy as np\n",
    "\n",
    "from sklearn.metrics import accuracy_score, classification_report\n",
    "\n",
    "import matplotlib.pyplot as plt\n",
    "\n",
    "import os, time\n",
    "import csv"
   ]
  },
  {
   "attachments": {},
   "cell_type": "markdown",
   "metadata": {},
   "source": [
    "### 1.Load dataset"
   ]
  },
  {
   "cell_type": "code",
   "execution_count": 2,
   "metadata": {},
   "outputs": [],
   "source": [
    "data_root = '../feature_extractor/results'\n",
    "\n",
    "classes = []\n",
    "with open('../Class_mapping.csv') as f:\n",
    "    csvreader = csv.reader(f)\n",
    "    for row in csvreader:\n",
    "        classes.append(row[0])"
   ]
  },
  {
   "cell_type": "code",
   "execution_count": 3,
   "metadata": {},
   "outputs": [
    {
     "data": {
      "text/plain": [
       "{'ฉัน': 0,\n",
       " 'เธอ': 1,\n",
       " 'เขา': 2,\n",
       " 'พวกเรา': 3,\n",
       " 'สวัสดี': 4,\n",
       " 'ชื่อ': 5,\n",
       " 'ผู้ชาย': 6,\n",
       " 'ผู้หญิง': 7,\n",
       " 'ความรัก': 8,\n",
       " 'ชอบ': 9,\n",
       " 'ไม่ชอบ': 10,\n",
       " 'ดีใจ': 11,\n",
       " 'เสียใจ': 12,\n",
       " 'โกรธ': 13,\n",
       " 'ร้องไห้': 14,\n",
       " 'ยาก': 15,\n",
       " 'ง่าย': 16,\n",
       " 'คิดถึง': 17,\n",
       " 'รองเท้า': 18,\n",
       " 'กางเกงยีนส์': 19,\n",
       " 'หมวก': 20,\n",
       " 'แว่นตา': 21,\n",
       " 'นาฬิกาข้อมือ': 22,\n",
       " 'ผ้าเช็ดหน้า': 23}"
      ]
     },
     "execution_count": 3,
     "metadata": {},
     "output_type": "execute_result"
    }
   ],
   "source": [
    "class_2_num = {classes[idx]:idx for idx in range(len(classes))}\n",
    "class_2_num"
   ]
  },
  {
   "attachments": {},
   "cell_type": "markdown",
   "metadata": {},
   "source": [
    "### DataLoader"
   ]
  },
  {
   "cell_type": "code",
   "execution_count": 4,
   "metadata": {},
   "outputs": [],
   "source": [
    "from torch.utils.data import Dataset, DataLoader"
   ]
  },
  {
   "cell_type": "code",
   "execution_count": 5,
   "metadata": {},
   "outputs": [],
   "source": [
    "class SignLanguageDataset(Dataset):\n",
    "    def __init__(self, data_root, classes):\n",
    "        self.data = []\n",
    "        self.labels = []\n",
    "        self.classes = classes\n",
    "        for cls in classes:\n",
    "            cls_dir = os.path.join(data_root, cls)\n",
    "            files = os.listdir(cls_dir)\n",
    "            files = [f for f in files if os.path.isfile(cls_dir+'/'+f) and not 'denormalized' in f]\n",
    "            for f in files:\n",
    "                \n",
    "                seq = pd.read_csv(cls_dir + '/' + f)\n",
    "                seq.drop(['index'], axis=1, inplace=True)\n",
    "                self.data.append(seq)\n",
    "                self.labels.append(cls)\n",
    "\n",
    "    def __len__(self):\n",
    "        return len(self.labels)\n",
    "\n",
    "    def __getitem__(self, idx):\n",
    "        seq = self.data[idx]\n",
    "        cls = self.labels[idx]\n",
    "        label = class_2_num[cls]\n",
    "        return seq, label"
   ]
  },
  {
   "cell_type": "code",
   "execution_count": 6,
   "metadata": {},
   "outputs": [],
   "source": [
    "train_dataset = SignLanguageDataset(data_root, classes)"
   ]
  },
  {
   "cell_type": "code",
   "execution_count": 7,
   "metadata": {},
   "outputs": [
    {
     "name": "stdout",
     "output_type": "stream",
     "text": [
      "(139, 150) 5\n"
     ]
    }
   ],
   "source": [
    "data, label = train_dataset[5]\n",
    "\n",
    "print(data.shape, label)"
   ]
  },
  {
   "cell_type": "code",
   "execution_count": 8,
   "metadata": {},
   "outputs": [],
   "source": [
    "from torch.nn.utils.rnn import pad_sequence, pack_padded_sequence, pad_packed_sequence"
   ]
  },
  {
   "cell_type": "code",
   "execution_count": 9,
   "metadata": {},
   "outputs": [],
   "source": [
    "sample_frame_size = 5\n",
    "\n",
    "def pad_collate(batch):\n",
    "    (xx, yy) = zip(*batch)\n",
    "    xx = [torch.from_numpy(x[::5].to_numpy()).float() for x in xx]\n",
    "    x_lens = torch.tensor([len(x) for x in xx])\n",
    "\n",
    "    xx_pad = pad_sequence(xx, batch_first=True, padding_value=0)\n",
    "    return xx_pad, x_lens, torch.tensor(yy, dtype=torch.long)"
   ]
  },
  {
   "cell_type": "code",
   "execution_count": 10,
   "metadata": {},
   "outputs": [],
   "source": [
    "batch_size = 8\n",
    "dataloader = DataLoader(train_dataset, batch_size, collate_fn=pad_collate, shuffle=True)\n",
    "testloader = DataLoader(train_dataset, batch_size, collate_fn=pad_collate)"
   ]
  },
  {
   "cell_type": "code",
   "execution_count": 11,
   "metadata": {},
   "outputs": [
    {
     "data": {
      "text/plain": [
       "(torch.Size([8, 35, 150]), torch.Size([8]), torch.Size([8]))"
      ]
     },
     "execution_count": 11,
     "metadata": {},
     "output_type": "execute_result"
    }
   ],
   "source": [
    "out = next(iter(dataloader))\n",
    "out[0].shape, out[1].shape, out[2].shape"
   ]
  },
  {
   "attachments": {},
   "cell_type": "markdown",
   "metadata": {},
   "source": [
    "### Model"
   ]
  },
  {
   "cell_type": "code",
   "execution_count": 12,
   "metadata": {},
   "outputs": [],
   "source": [
    "import torch.nn as nn\n",
    "import torch.optim as optim\n",
    "import torch.nn.functional as F\n",
    "import torchinfo\n",
    "from tqdm import tqdm"
   ]
  },
  {
   "cell_type": "code",
   "execution_count": 13,
   "metadata": {},
   "outputs": [],
   "source": [
    "class LSTMClassifier(nn.Module):\n",
    "  def __init__(self, input_dim, hidden_dim, output_dim, n_layers=2):\n",
    "    super(LSTMClassifier, self).__init__()\n",
    "    self.lstm = nn.LSTM(input_dim, hidden_dim, num_layers=n_layers, batch_first=True)\n",
    "    self.fc1 = nn.Linear(hidden_dim, 64)\n",
    "    self.fc2 = nn.Linear(64, output_dim)\n",
    "\n",
    "  def forward(self, x, x_len):\n",
    "    packed_x = pack_padded_sequence(x, x_len, batch_first=True, enforce_sorted=False)\n",
    "    packed_output, (h, _) = self.lstm(packed_x)\n",
    "    output = F.relu(self.fc1(h[-1]))\n",
    "    logit = self.fc2(output)\n",
    "    return logit"
   ]
  },
  {
   "cell_type": "code",
   "execution_count": 14,
   "metadata": {},
   "outputs": [
    {
     "data": {
      "text/plain": [
       "LSTMClassifier(\n",
       "  (lstm): LSTM(150, 128, batch_first=True)\n",
       "  (fc1): Linear(in_features=128, out_features=64, bias=True)\n",
       "  (fc2): Linear(in_features=64, out_features=24, bias=True)\n",
       ")"
      ]
     },
     "execution_count": 14,
     "metadata": {},
     "output_type": "execute_result"
    }
   ],
   "source": [
    "device = torch.device('cuda' if torch.cuda.is_available() else 'cpu')\n",
    "\n",
    "model = LSTMClassifier(150, 128, len(classes), n_layers=1)\n",
    "model.to(device)"
   ]
  },
  {
   "cell_type": "code",
   "execution_count": 15,
   "metadata": {},
   "outputs": [],
   "source": [
    "model_path = 'simple_lstm_classifier.pth'\n",
    "optimizer = optim.Adam(model.parameters(), lr=0.01)\n",
    "criterion = nn.CrossEntropyLoss()"
   ]
  },
  {
   "attachments": {},
   "cell_type": "markdown",
   "metadata": {},
   "source": [
    "### Training loop"
   ]
  },
  {
   "cell_type": "code",
   "execution_count": 16,
   "metadata": {},
   "outputs": [
    {
     "name": "stdout",
     "output_type": "stream",
     "text": [
      "EPOCH : 1\n",
      "TRAINING LOOP\n"
     ]
    },
    {
     "name": "stderr",
     "output_type": "stream",
     "text": [
      "100%|██████████| 3/3 [00:00<00:00,  6.57it/s]\n",
      "100%|██████████| 3/3 [00:00<00:00, 214.30it/s]\n"
     ]
    },
    {
     "name": "stdout",
     "output_type": "stream",
     "text": [
      "training loss = 3.282,     valudating loss = 3.179,     valudating acc = 0.042\n",
      "\n",
      "\n",
      "EPOCH : 2\n",
      "TRAINING LOOP\n"
     ]
    },
    {
     "name": "stderr",
     "output_type": "stream",
     "text": [
      "100%|██████████| 3/3 [00:00<00:00, 142.86it/s]\n",
      "100%|██████████| 3/3 [00:00<00:00, 214.26it/s]\n"
     ]
    },
    {
     "name": "stdout",
     "output_type": "stream",
     "text": [
      "training loss = 3.238,     valudating loss = 3.181,     valudating acc = 0.042\n",
      "\n",
      "\n",
      "EPOCH : 3\n",
      "TRAINING LOOP\n"
     ]
    },
    {
     "name": "stderr",
     "output_type": "stream",
     "text": [
      "100%|██████████| 3/3 [00:00<00:00, 130.42it/s]\n",
      "100%|██████████| 3/3 [00:00<00:00, 230.86it/s]\n"
     ]
    },
    {
     "name": "stdout",
     "output_type": "stream",
     "text": [
      "training loss = 3.206,     valudating loss = 3.179,     valudating acc = 0.042\n",
      "\n",
      "\n",
      "EPOCH : 4\n",
      "TRAINING LOOP\n"
     ]
    },
    {
     "name": "stderr",
     "output_type": "stream",
     "text": [
      "100%|██████████| 3/3 [00:00<00:00, 130.46it/s]\n",
      "100%|██████████| 3/3 [00:00<00:00, 214.28it/s]\n"
     ]
    },
    {
     "name": "stdout",
     "output_type": "stream",
     "text": [
      "training loss = 3.185,     valudating loss = 3.178,     valudating acc = 0.042\n",
      "\n",
      "\n",
      "EPOCH : 5\n",
      "TRAINING LOOP\n"
     ]
    },
    {
     "name": "stderr",
     "output_type": "stream",
     "text": [
      "100%|██████████| 3/3 [00:00<00:00, 115.38it/s]\n",
      "100%|██████████| 3/3 [00:00<00:00, 333.34it/s]\n"
     ]
    },
    {
     "name": "stdout",
     "output_type": "stream",
     "text": [
      "training loss = 3.184,     valudating loss = 3.176,     valudating acc = 0.042\n",
      "\n",
      "\n",
      "EPOCH : 6\n",
      "TRAINING LOOP\n"
     ]
    },
    {
     "name": "stderr",
     "output_type": "stream",
     "text": [
      "100%|██████████| 3/3 [00:00<00:00, 136.37it/s]\n",
      "100%|██████████| 3/3 [00:00<00:00, 300.03it/s]\n"
     ]
    },
    {
     "name": "stdout",
     "output_type": "stream",
     "text": [
      "training loss = 3.177,     valudating loss = 3.170,     valudating acc = 0.042\n",
      "\n",
      "\n",
      "EPOCH : 7\n",
      "TRAINING LOOP\n"
     ]
    },
    {
     "name": "stderr",
     "output_type": "stream",
     "text": [
      "100%|██████████| 3/3 [00:00<00:00, 124.99it/s]\n",
      "100%|██████████| 3/3 [00:00<00:00, 230.80it/s]\n"
     ]
    },
    {
     "name": "stdout",
     "output_type": "stream",
     "text": [
      "training loss = 3.172,     valudating loss = 3.157,     valudating acc = 0.125\n",
      "\n",
      "\n",
      "EPOCH : 8\n",
      "TRAINING LOOP\n"
     ]
    },
    {
     "name": "stderr",
     "output_type": "stream",
     "text": [
      "100%|██████████| 3/3 [00:00<00:00, 115.42it/s]\n",
      "100%|██████████| 3/3 [00:00<00:00, 300.01it/s]\n"
     ]
    },
    {
     "name": "stdout",
     "output_type": "stream",
     "text": [
      "training loss = 3.154,     valudating loss = 3.134,     valudating acc = 0.083\n",
      "\n",
      "\n",
      "EPOCH : 9\n",
      "TRAINING LOOP\n"
     ]
    },
    {
     "name": "stderr",
     "output_type": "stream",
     "text": [
      "100%|██████████| 3/3 [00:00<00:00, 125.01it/s]\n",
      "100%|██████████| 3/3 [00:00<00:00, 272.68it/s]\n"
     ]
    },
    {
     "name": "stdout",
     "output_type": "stream",
     "text": [
      "training loss = 3.128,     valudating loss = 3.083,     valudating acc = 0.083\n",
      "\n",
      "\n",
      "EPOCH : 10\n",
      "TRAINING LOOP\n"
     ]
    },
    {
     "name": "stderr",
     "output_type": "stream",
     "text": [
      "100%|██████████| 3/3 [00:00<00:00, 124.98it/s]\n",
      "100%|██████████| 3/3 [00:00<00:00, 299.92it/s]\n"
     ]
    },
    {
     "name": "stdout",
     "output_type": "stream",
     "text": [
      "training loss = 3.076,     valudating loss = 3.015,     valudating acc = 0.083\n",
      "\n",
      "\n",
      "EPOCH : 11\n",
      "TRAINING LOOP\n"
     ]
    },
    {
     "name": "stderr",
     "output_type": "stream",
     "text": [
      "100%|██████████| 3/3 [00:00<00:00, 124.98it/s]\n",
      "100%|██████████| 3/3 [00:00<00:00, 199.99it/s]\n"
     ]
    },
    {
     "name": "stdout",
     "output_type": "stream",
     "text": [
      "training loss = 2.986,     valudating loss = 2.931,     valudating acc = 0.083\n",
      "\n",
      "\n",
      "EPOCH : 12\n",
      "TRAINING LOOP\n"
     ]
    },
    {
     "name": "stderr",
     "output_type": "stream",
     "text": [
      "100%|██████████| 3/3 [00:00<00:00, 150.07it/s]\n",
      "100%|██████████| 3/3 [00:00<00:00, 375.09it/s]\n"
     ]
    },
    {
     "name": "stdout",
     "output_type": "stream",
     "text": [
      "training loss = 2.930,     valudating loss = 2.871,     valudating acc = 0.083\n",
      "\n",
      "\n",
      "EPOCH : 13\n",
      "TRAINING LOOP\n"
     ]
    },
    {
     "name": "stderr",
     "output_type": "stream",
     "text": [
      "100%|██████████| 3/3 [00:00<00:00, 214.29it/s]\n",
      "100%|██████████| 3/3 [00:00<00:00, 333.30it/s]\n"
     ]
    },
    {
     "name": "stdout",
     "output_type": "stream",
     "text": [
      "training loss = 2.881,     valudating loss = 2.806,     valudating acc = 0.083\n",
      "\n",
      "\n",
      "EPOCH : 14\n",
      "TRAINING LOOP\n"
     ]
    },
    {
     "name": "stderr",
     "output_type": "stream",
     "text": [
      "100%|██████████| 3/3 [00:00<00:00, 187.58it/s]\n",
      "100%|██████████| 3/3 [00:00<00:00, 375.03it/s]\n"
     ]
    },
    {
     "name": "stdout",
     "output_type": "stream",
     "text": [
      "training loss = 2.856,     valudating loss = 2.828,     valudating acc = 0.125\n",
      "\n",
      "\n",
      "EPOCH : 15\n",
      "TRAINING LOOP\n"
     ]
    },
    {
     "name": "stderr",
     "output_type": "stream",
     "text": [
      "100%|██████████| 3/3 [00:00<00:00, 199.99it/s]\n",
      "100%|██████████| 3/3 [00:00<00:00, 375.02it/s]\n"
     ]
    },
    {
     "name": "stdout",
     "output_type": "stream",
     "text": [
      "training loss = 2.789,     valudating loss = 2.739,     valudating acc = 0.083\n",
      "\n",
      "\n",
      "EPOCH : 16\n",
      "TRAINING LOOP\n"
     ]
    },
    {
     "name": "stderr",
     "output_type": "stream",
     "text": [
      "100%|██████████| 3/3 [00:00<00:00, 214.30it/s]\n",
      "100%|██████████| 3/3 [00:00<00:00, 428.65it/s]\n"
     ]
    },
    {
     "name": "stdout",
     "output_type": "stream",
     "text": [
      "training loss = 2.717,     valudating loss = 2.611,     valudating acc = 0.167\n",
      "\n",
      "\n",
      "EPOCH : 17\n",
      "TRAINING LOOP\n"
     ]
    },
    {
     "name": "stderr",
     "output_type": "stream",
     "text": [
      "100%|██████████| 3/3 [00:00<00:00, 214.31it/s]\n",
      "100%|██████████| 3/3 [00:00<00:00, 90.91it/s]\n"
     ]
    },
    {
     "name": "stdout",
     "output_type": "stream",
     "text": [
      "training loss = 2.636,     valudating loss = 2.485,     valudating acc = 0.208\n",
      "\n",
      "\n",
      "EPOCH : 18\n",
      "TRAINING LOOP\n"
     ]
    },
    {
     "name": "stderr",
     "output_type": "stream",
     "text": [
      "100%|██████████| 3/3 [00:00<00:00, 157.92it/s]\n",
      "100%|██████████| 3/3 [00:00<00:00, 230.78it/s]\n"
     ]
    },
    {
     "name": "stdout",
     "output_type": "stream",
     "text": [
      "training loss = 2.471,     valudating loss = 2.347,     valudating acc = 0.167\n",
      "\n",
      "\n",
      "EPOCH : 19\n",
      "TRAINING LOOP\n"
     ]
    },
    {
     "name": "stderr",
     "output_type": "stream",
     "text": [
      "100%|██████████| 3/3 [00:00<00:00, 187.49it/s]\n",
      "100%|██████████| 3/3 [00:00<00:00, 333.36it/s]\n"
     ]
    },
    {
     "name": "stdout",
     "output_type": "stream",
     "text": [
      "training loss = 2.317,     valudating loss = 2.146,     valudating acc = 0.250\n",
      "\n",
      "\n",
      "EPOCH : 20\n",
      "TRAINING LOOP\n"
     ]
    },
    {
     "name": "stderr",
     "output_type": "stream",
     "text": [
      "100%|██████████| 3/3 [00:00<00:00, 214.33it/s]\n",
      "100%|██████████| 3/3 [00:00<00:00, 333.22it/s]\n"
     ]
    },
    {
     "name": "stdout",
     "output_type": "stream",
     "text": [
      "training loss = 2.154,     valudating loss = 1.928,     valudating acc = 0.292\n",
      "\n",
      "\n",
      "EPOCH : 21\n",
      "TRAINING LOOP\n"
     ]
    },
    {
     "name": "stderr",
     "output_type": "stream",
     "text": [
      "100%|██████████| 3/3 [00:00<00:00, 157.89it/s]\n",
      "100%|██████████| 3/3 [00:00<00:00, 333.33it/s]\n"
     ]
    },
    {
     "name": "stdout",
     "output_type": "stream",
     "text": [
      "training loss = 1.960,     valudating loss = 1.763,     valudating acc = 0.333\n",
      "\n",
      "\n",
      "EPOCH : 22\n",
      "TRAINING LOOP\n"
     ]
    },
    {
     "name": "stderr",
     "output_type": "stream",
     "text": [
      "100%|██████████| 3/3 [00:00<00:00, 157.90it/s]\n",
      "100%|██████████| 3/3 [00:00<00:00, 333.49it/s]\n"
     ]
    },
    {
     "name": "stdout",
     "output_type": "stream",
     "text": [
      "training loss = 1.799,     valudating loss = 1.638,     valudating acc = 0.417\n",
      "\n",
      "\n",
      "EPOCH : 23\n",
      "TRAINING LOOP\n"
     ]
    },
    {
     "name": "stderr",
     "output_type": "stream",
     "text": [
      "100%|██████████| 3/3 [00:00<00:00, 136.36it/s]\n",
      "100%|██████████| 3/3 [00:00<00:00, 375.13it/s]\n"
     ]
    },
    {
     "name": "stdout",
     "output_type": "stream",
     "text": [
      "training loss = 1.721,     valudating loss = 1.575,     valudating acc = 0.417\n",
      "\n",
      "\n",
      "EPOCH : 24\n",
      "TRAINING LOOP\n"
     ]
    },
    {
     "name": "stderr",
     "output_type": "stream",
     "text": [
      "100%|██████████| 3/3 [00:00<00:00, 157.89it/s]\n",
      "100%|██████████| 3/3 [00:00<00:00, 333.38it/s]\n"
     ]
    },
    {
     "name": "stdout",
     "output_type": "stream",
     "text": [
      "training loss = 1.740,     valudating loss = 1.491,     valudating acc = 0.375\n",
      "\n",
      "\n",
      "EPOCH : 25\n",
      "TRAINING LOOP\n"
     ]
    },
    {
     "name": "stderr",
     "output_type": "stream",
     "text": [
      "100%|██████████| 3/3 [00:00<00:00, 187.52it/s]\n",
      "100%|██████████| 3/3 [00:00<00:00, 333.37it/s]\n"
     ]
    },
    {
     "name": "stdout",
     "output_type": "stream",
     "text": [
      "training loss = 1.809,     valudating loss = 1.777,     valudating acc = 0.417\n",
      "\n",
      "\n",
      "EPOCH : 26\n",
      "TRAINING LOOP\n"
     ]
    },
    {
     "name": "stderr",
     "output_type": "stream",
     "text": [
      "100%|██████████| 3/3 [00:00<00:00, 187.47it/s]\n",
      "100%|██████████| 3/3 [00:00<00:00, 375.05it/s]\n"
     ]
    },
    {
     "name": "stdout",
     "output_type": "stream",
     "text": [
      "training loss = 1.754,     valudating loss = 1.767,     valudating acc = 0.250\n",
      "\n",
      "\n",
      "EPOCH : 27\n",
      "TRAINING LOOP\n"
     ]
    },
    {
     "name": "stderr",
     "output_type": "stream",
     "text": [
      "100%|██████████| 3/3 [00:00<00:00, 200.02it/s]\n",
      "100%|██████████| 3/3 [00:00<00:00, 375.08it/s]\n"
     ]
    },
    {
     "name": "stdout",
     "output_type": "stream",
     "text": [
      "training loss = 1.778,     valudating loss = 1.620,     valudating acc = 0.375\n",
      "\n",
      "\n",
      "EPOCH : 28\n",
      "TRAINING LOOP\n"
     ]
    },
    {
     "name": "stderr",
     "output_type": "stream",
     "text": [
      "100%|██████████| 3/3 [00:00<00:00, 200.01it/s]\n",
      "100%|██████████| 3/3 [00:00<00:00, 333.49it/s]\n"
     ]
    },
    {
     "name": "stdout",
     "output_type": "stream",
     "text": [
      "training loss = 1.684,     valudating loss = 1.449,     valudating acc = 0.458\n",
      "\n",
      "\n",
      "EPOCH : 29\n",
      "TRAINING LOOP\n"
     ]
    },
    {
     "name": "stderr",
     "output_type": "stream",
     "text": [
      "100%|██████████| 3/3 [00:00<00:00, 214.29it/s]\n",
      "100%|██████████| 3/3 [00:00<00:00, 375.14it/s]\n"
     ]
    },
    {
     "name": "stdout",
     "output_type": "stream",
     "text": [
      "training loss = 1.521,     valudating loss = 1.425,     valudating acc = 0.542\n",
      "\n",
      "\n",
      "EPOCH : 30\n",
      "TRAINING LOOP\n"
     ]
    },
    {
     "name": "stderr",
     "output_type": "stream",
     "text": [
      "100%|██████████| 3/3 [00:00<00:00, 157.89it/s]\n",
      "100%|██████████| 3/3 [00:00<00:00, 299.96it/s]\n"
     ]
    },
    {
     "name": "stdout",
     "output_type": "stream",
     "text": [
      "training loss = 1.443,     valudating loss = 1.334,     valudating acc = 0.500\n",
      "\n",
      "\n",
      "EPOCH : 31\n",
      "TRAINING LOOP\n"
     ]
    },
    {
     "name": "stderr",
     "output_type": "stream",
     "text": [
      "100%|██████████| 3/3 [00:00<00:00, 176.48it/s]\n",
      "100%|██████████| 3/3 [00:00<00:00, 300.09it/s]\n"
     ]
    },
    {
     "name": "stdout",
     "output_type": "stream",
     "text": [
      "training loss = 1.394,     valudating loss = 1.198,     valudating acc = 0.625\n",
      "\n",
      "\n",
      "EPOCH : 32\n",
      "TRAINING LOOP\n"
     ]
    },
    {
     "name": "stderr",
     "output_type": "stream",
     "text": [
      "100%|██████████| 3/3 [00:00<00:00, 115.37it/s]\n",
      "100%|██████████| 3/3 [00:00<00:00, 272.79it/s]\n"
     ]
    },
    {
     "name": "stdout",
     "output_type": "stream",
     "text": [
      "training loss = 1.296,     valudating loss = 1.067,     valudating acc = 0.667\n",
      "\n",
      "\n",
      "EPOCH : 33\n",
      "TRAINING LOOP\n"
     ]
    },
    {
     "name": "stderr",
     "output_type": "stream",
     "text": [
      "100%|██████████| 3/3 [00:00<00:00, 150.01it/s]\n",
      "100%|██████████| 3/3 [00:00<00:00, 333.28it/s]\n"
     ]
    },
    {
     "name": "stdout",
     "output_type": "stream",
     "text": [
      "training loss = 1.147,     valudating loss = 1.036,     valudating acc = 0.667\n",
      "\n",
      "\n",
      "EPOCH : 34\n",
      "TRAINING LOOP\n"
     ]
    },
    {
     "name": "stderr",
     "output_type": "stream",
     "text": [
      "100%|██████████| 3/3 [00:00<00:00, 200.01it/s]\n",
      "100%|██████████| 3/3 [00:00<00:00, 428.54it/s]\n"
     ]
    },
    {
     "name": "stdout",
     "output_type": "stream",
     "text": [
      "training loss = 1.073,     valudating loss = 0.903,     valudating acc = 0.750\n",
      "\n",
      "\n",
      "EPOCH : 35\n",
      "TRAINING LOOP\n"
     ]
    },
    {
     "name": "stderr",
     "output_type": "stream",
     "text": [
      "100%|██████████| 3/3 [00:00<00:00, 214.29it/s]\n",
      "100%|██████████| 3/3 [00:00<00:00, 300.04it/s]\n"
     ]
    },
    {
     "name": "stdout",
     "output_type": "stream",
     "text": [
      "training loss = 0.937,     valudating loss = 0.814,     valudating acc = 0.833\n",
      "\n",
      "\n",
      "EPOCH : 36\n",
      "TRAINING LOOP\n"
     ]
    },
    {
     "name": "stderr",
     "output_type": "stream",
     "text": [
      "100%|██████████| 3/3 [00:00<00:00, 187.52it/s]\n",
      "100%|██████████| 3/3 [00:00<00:00, 333.31it/s]\n"
     ]
    },
    {
     "name": "stdout",
     "output_type": "stream",
     "text": [
      "training loss = 0.943,     valudating loss = 0.803,     valudating acc = 0.667\n",
      "\n",
      "\n",
      "EPOCH : 37\n",
      "TRAINING LOOP\n"
     ]
    },
    {
     "name": "stderr",
     "output_type": "stream",
     "text": [
      "100%|██████████| 3/3 [00:00<00:00, 61.22it/s]\n",
      "100%|██████████| 3/3 [00:00<00:00, 300.09it/s]\n"
     ]
    },
    {
     "name": "stdout",
     "output_type": "stream",
     "text": [
      "training loss = 0.793,     valudating loss = 0.736,     valudating acc = 0.792\n",
      "\n",
      "\n",
      "EPOCH : 38\n",
      "TRAINING LOOP\n"
     ]
    },
    {
     "name": "stderr",
     "output_type": "stream",
     "text": [
      "100%|██████████| 3/3 [00:00<00:00, 130.44it/s]\n",
      "100%|██████████| 3/3 [00:00<00:00, 428.54it/s]\n"
     ]
    },
    {
     "name": "stdout",
     "output_type": "stream",
     "text": [
      "training loss = 0.835,     valudating loss = 0.655,     valudating acc = 0.792\n",
      "\n",
      "\n",
      "EPOCH : 39\n",
      "TRAINING LOOP\n"
     ]
    },
    {
     "name": "stderr",
     "output_type": "stream",
     "text": [
      "100%|██████████| 3/3 [00:00<00:00, 214.29it/s]\n",
      "100%|██████████| 3/3 [00:00<00:00, 333.43it/s]\n"
     ]
    },
    {
     "name": "stdout",
     "output_type": "stream",
     "text": [
      "training loss = 0.684,     valudating loss = 0.621,     valudating acc = 0.792\n",
      "\n",
      "\n",
      "EPOCH : 40\n",
      "TRAINING LOOP\n"
     ]
    },
    {
     "name": "stderr",
     "output_type": "stream",
     "text": [
      "100%|██████████| 3/3 [00:00<00:00, 200.03it/s]\n",
      "100%|██████████| 3/3 [00:00<00:00, 375.15it/s]\n"
     ]
    },
    {
     "name": "stdout",
     "output_type": "stream",
     "text": [
      "training loss = 0.682,     valudating loss = 0.570,     valudating acc = 0.792\n",
      "\n",
      "\n",
      "EPOCH : 41\n",
      "TRAINING LOOP\n"
     ]
    },
    {
     "name": "stderr",
     "output_type": "stream",
     "text": [
      "100%|██████████| 3/3 [00:00<00:00, 200.04it/s]\n",
      "100%|██████████| 3/3 [00:00<00:00, 375.11it/s]\n"
     ]
    },
    {
     "name": "stdout",
     "output_type": "stream",
     "text": [
      "training loss = 0.757,     valudating loss = 0.552,     valudating acc = 0.833\n",
      "\n",
      "\n",
      "EPOCH : 42\n",
      "TRAINING LOOP\n"
     ]
    },
    {
     "name": "stderr",
     "output_type": "stream",
     "text": [
      "100%|██████████| 3/3 [00:00<00:00, 214.31it/s]\n",
      "100%|██████████| 3/3 [00:00<00:00, 374.98it/s]\n"
     ]
    },
    {
     "name": "stdout",
     "output_type": "stream",
     "text": [
      "training loss = 0.595,     valudating loss = 0.439,     valudating acc = 0.875\n",
      "\n",
      "\n",
      "EPOCH : 43\n",
      "TRAINING LOOP\n"
     ]
    },
    {
     "name": "stderr",
     "output_type": "stream",
     "text": [
      "100%|██████████| 3/3 [00:00<00:00, 230.76it/s]\n",
      "100%|██████████| 3/3 [00:00<00:00, 299.96it/s]\n"
     ]
    },
    {
     "name": "stdout",
     "output_type": "stream",
     "text": [
      "training loss = 0.517,     valudating loss = 0.459,     valudating acc = 0.833\n",
      "\n",
      "\n",
      "EPOCH : 44\n",
      "TRAINING LOOP\n"
     ]
    },
    {
     "name": "stderr",
     "output_type": "stream",
     "text": [
      "100%|██████████| 3/3 [00:00<00:00, 214.30it/s]\n",
      "100%|██████████| 3/3 [00:00<00:00, 428.59it/s]\n"
     ]
    },
    {
     "name": "stdout",
     "output_type": "stream",
     "text": [
      "training loss = 0.569,     valudating loss = 0.428,     valudating acc = 0.875\n",
      "\n",
      "\n",
      "EPOCH : 45\n",
      "TRAINING LOOP\n"
     ]
    },
    {
     "name": "stderr",
     "output_type": "stream",
     "text": [
      "100%|██████████| 3/3 [00:00<00:00, 214.30it/s]\n",
      "100%|██████████| 3/3 [00:00<00:00, 299.95it/s]\n"
     ]
    },
    {
     "name": "stdout",
     "output_type": "stream",
     "text": [
      "training loss = 0.587,     valudating loss = 0.321,     valudating acc = 0.875\n",
      "\n",
      "\n",
      "EPOCH : 46\n",
      "TRAINING LOOP\n"
     ]
    },
    {
     "name": "stderr",
     "output_type": "stream",
     "text": [
      "100%|██████████| 3/3 [00:00<00:00, 187.49it/s]\n",
      "100%|██████████| 3/3 [00:00<00:00, 374.94it/s]\n"
     ]
    },
    {
     "name": "stdout",
     "output_type": "stream",
     "text": [
      "training loss = 0.449,     valudating loss = 0.381,     valudating acc = 0.917\n",
      "\n",
      "\n",
      "EPOCH : 47\n",
      "TRAINING LOOP\n"
     ]
    },
    {
     "name": "stderr",
     "output_type": "stream",
     "text": [
      "100%|██████████| 3/3 [00:00<00:00, 200.03it/s]\n",
      "100%|██████████| 3/3 [00:00<00:00, 374.90it/s]\n"
     ]
    },
    {
     "name": "stdout",
     "output_type": "stream",
     "text": [
      "training loss = 0.683,     valudating loss = 0.500,     valudating acc = 0.792\n",
      "\n",
      "\n",
      "EPOCH : 48\n",
      "TRAINING LOOP\n"
     ]
    },
    {
     "name": "stderr",
     "output_type": "stream",
     "text": [
      "100%|██████████| 3/3 [00:00<00:00, 214.30it/s]\n",
      "100%|██████████| 3/3 [00:00<00:00, 375.11it/s]\n"
     ]
    },
    {
     "name": "stdout",
     "output_type": "stream",
     "text": [
      "training loss = 0.506,     valudating loss = 0.372,     valudating acc = 0.875\n",
      "\n",
      "\n",
      "EPOCH : 49\n",
      "TRAINING LOOP\n"
     ]
    },
    {
     "name": "stderr",
     "output_type": "stream",
     "text": [
      "100%|██████████| 3/3 [00:00<00:00, 157.92it/s]\n",
      "100%|██████████| 3/3 [00:00<00:00, 272.51it/s]\n"
     ]
    },
    {
     "name": "stdout",
     "output_type": "stream",
     "text": [
      "training loss = 0.425,     valudating loss = 0.491,     valudating acc = 0.792\n",
      "\n",
      "\n",
      "EPOCH : 50\n",
      "TRAINING LOOP\n"
     ]
    },
    {
     "name": "stderr",
     "output_type": "stream",
     "text": [
      "100%|██████████| 3/3 [00:00<00:00, 125.01it/s]\n",
      "100%|██████████| 3/3 [00:00<00:00, 333.31it/s]\n"
     ]
    },
    {
     "name": "stdout",
     "output_type": "stream",
     "text": [
      "training loss = 0.473,     valudating loss = 0.381,     valudating acc = 0.917\n",
      "\n",
      "\n"
     ]
    }
   ],
   "source": [
    "num_epochs = 50\n",
    "idx = 0\n",
    "best_val_acc = 0\n",
    "\n",
    "training_losses = []\n",
    "epoch_val_losses = []\n",
    "epoch_train_losses = []\n",
    "val_accs = []\n",
    "\n",
    "for epoch in range(1, num_epochs+1): \n",
    "  running_loss = 0.0\n",
    "  running_val_loss = 0.0\n",
    "  print(\"EPOCH :\", epoch)\n",
    "  print(\"TRAINING LOOP\")\n",
    "  model.train() \n",
    "  for x_train, x_lens, labels in tqdm(dataloader): \n",
    "    optimizer.zero_grad() \n",
    "\n",
    "    x_train, labels = x_train.to(device), labels.to(device)\n",
    "    y_pred = model(x_train, x_lens)\n",
    "\n",
    "    loss = criterion(y_pred, labels)\n",
    "    running_loss += loss.item()\n",
    "    training_losses.append(loss.item())\n",
    "    loss.backward()\n",
    "    optimizer.step()\n",
    "    idx += 1\n",
    "  avg_running_loss = running_loss / len(dataloader)\n",
    "\n",
    "  model.eval()\n",
    "  with torch.no_grad():\n",
    "    val_pred = []\n",
    "    val_true = []\n",
    "    for x_val, x_lens, labels in tqdm(testloader): \n",
    "      x_val, labels = x_val.to(device), labels.to(device)\n",
    "      pred = model(x_val, x_lens)\n",
    "      loss = criterion(pred, labels)\n",
    "      \n",
    "      running_val_loss += loss.item()\n",
    "      val_pred.append(pred.cpu().detach())\n",
    "      val_true.append(labels.cpu().detach())\n",
    "    \n",
    "  avg_val_loss = running_val_loss / len(testloader)\n",
    "  val_pred = torch.concatenate(val_pred, axis = 0).numpy()\n",
    "  val_true = torch.concatenate(val_true, axis = 0).numpy()\n",
    "\n",
    "  val_pred = np.argmax(val_pred, axis = 1)\n",
    "  val_acc = accuracy_score(val_true, val_pred)\n",
    "\n",
    "  # append to array for plotting\n",
    "  epoch_train_losses.append(avg_running_loss)\n",
    "  epoch_val_losses.append(avg_val_loss)\n",
    "  val_accs.append(val_acc)\n",
    "\n",
    "  if(best_val_acc < val_acc):\n",
    "    best_val_acc = val_acc\n",
    "    torch.save(model.state_dict(), model_path)\n",
    "\n",
    "  print(f'training loss = {avg_running_loss:.3f}, \\\n",
    "    valudating loss = {avg_val_loss:.3f}, \\\n",
    "    valudating acc = {val_acc:.3f}\\n\\n')  "
   ]
  },
  {
   "cell_type": "code",
   "execution_count": 19,
   "metadata": {},
   "outputs": [],
   "source": [
    "## TODO 3.4: visualize peformance on train , validation set\n",
    "def visualize_loss_acc(training_losses, epoch_train_losses, epoch_val_losses, val_accs):\n",
    "  fig, ax = plt.subplots(1, 3, figsize=(15, 5))\n",
    "  ax[0].plot(training_losses, label='training loss')\n",
    "  ax[0].set_title('Training Loss')\n",
    "  ax[1].plot(epoch_train_losses, label='train loss')\n",
    "  ax[1].plot(epoch_val_losses, label='val loss')\n",
    "  ax[1].set_title('Epoch Loss')\n",
    "  ax[1].legend()\n",
    "  ax[2].plot(val_accs, label='val acc')\n",
    "  ax[2].set_title('Validation Accuracy')\n",
    "  plt.show()"
   ]
  },
  {
   "cell_type": "code",
   "execution_count": 20,
   "metadata": {},
   "outputs": [
    {
     "data": {
      "image/png": "[encoded data removed]",
      "text/plain": [
       "<Figure size 1500x500 with 3 Axes>"
      ]
     },
     "metadata": {},
     "output_type": "display_data"
    }
   ],
   "source": [
    "visualize_loss_acc(training_losses, epoch_train_losses, epoch_val_losses, val_accs)"
   ]
  }
 ],
 "metadata": {
  "kernelspec": {
   "display_name": "torch",
   "language": "python",
   "name": "python3"
  },
  "language_info": {
   "codemirror_mode": {
    "name": "ipython",
    "version": 3
   },
   "file_extension": ".py",
   "mimetype": "text/x-python",
   "name": "python",
   "nbconvert_exporter": "python",
   "pygments_lexer": "ipython3",
   "version": "3.10.8"
  },
  "orig_nbformat": 4
 },
 "nbformat": 4,
 "nbformat_minor": 2
}
